{
 "cells": [
  {
   "cell_type": "markdown",
   "id": "43245afe",
   "metadata": {},
   "source": [
    "# 🩺 Predictive Healthcare  \n",
    "### *AI-based Disease Prediction System*  \n",
    "\n",
    "---\n",
    "\n",
    "**Course:** Bachelor of Computer Applications (BCA)  \n",
    "**College:** School of Computer Science and IT  \n",
    "**Submitted By:**  \n",
    "- Mohit Dhanotiya  \n",
    "- Kuldeep Verma  \n",
    "- Khushi Kulshrestha  \n",
    "\n",
    "**Guide:** Ms. Tarjani Sevak  \n",
    "**Semester:** Final Year (Phase 1 Project)  \n",
    "\n",
    "---\n",
    "\n",
    "### 📘 Overview  \n",
    "This project aims to predict possible diseases based on user-provided symptoms using a machine learning model.  \n",
    "It leverages **MultiLabelBinarizer** for feature encoding and **Multinomial Naive Bayes** for classification.  \n",
    "The system is integrated into a **Streamlit-based web interface** for easy use by end users.\n"
   ]
  },
  {
   "cell_type": "code",
   "execution_count": 2,
   "id": "4766a5cb",
   "metadata": {},
   "outputs": [],
   "source": [
    "# ---------------------------------------------------\n",
    "# Step 1: Import required libraries\n",
    "# ---------------------------------------------------\n",
    "import pandas as pd\n",
    "import joblib"
   ]
  },
  {
   "cell_type": "code",
   "execution_count": 3,
   "id": "823013c8",
   "metadata": {},
   "outputs": [
    {
     "name": "stdout",
     "output_type": "stream",
     "text": [
      "Dataset Loaded Successfully!\n",
      "Total Records: 100\n",
      "\n",
      "Preview of Dataset:\n"
     ]
    },
    {
     "data": {
      "text/html": [
       "<div>\n",
       "<style scoped>\n",
       "    .dataframe tbody tr th:only-of-type {\n",
       "        vertical-align: middle;\n",
       "    }\n",
       "\n",
       "    .dataframe tbody tr th {\n",
       "        vertical-align: top;\n",
       "    }\n",
       "\n",
       "    .dataframe thead th {\n",
       "        text-align: right;\n",
       "    }\n",
       "</style>\n",
       "<table border=\"1\" class=\"dataframe\">\n",
       "  <thead>\n",
       "    <tr style=\"text-align: right;\">\n",
       "      <th></th>\n",
       "      <th>Disease</th>\n",
       "      <th>Symptoms</th>\n",
       "    </tr>\n",
       "  </thead>\n",
       "  <tbody>\n",
       "    <tr>\n",
       "      <th>0</th>\n",
       "      <td>Common Cold</td>\n",
       "      <td>runny nose, sore throat</td>\n",
       "    </tr>\n",
       "    <tr>\n",
       "      <th>1</th>\n",
       "      <td>Common Cold</td>\n",
       "      <td>sneezing, mild fever</td>\n",
       "    </tr>\n",
       "    <tr>\n",
       "      <th>2</th>\n",
       "      <td>Common Cold</td>\n",
       "      <td>runny nose, fatigue</td>\n",
       "    </tr>\n",
       "    <tr>\n",
       "      <th>3</th>\n",
       "      <td>Common Cold</td>\n",
       "      <td>sore throat, cough</td>\n",
       "    </tr>\n",
       "    <tr>\n",
       "      <th>4</th>\n",
       "      <td>Common Cold</td>\n",
       "      <td>fatigue, sneezing</td>\n",
       "    </tr>\n",
       "  </tbody>\n",
       "</table>\n",
       "</div>"
      ],
      "text/plain": [
       "       Disease                 Symptoms\n",
       "0  Common Cold  runny nose, sore throat\n",
       "1  Common Cold     sneezing, mild fever\n",
       "2  Common Cold      runny nose, fatigue\n",
       "3  Common Cold       sore throat, cough\n",
       "4  Common Cold        fatigue, sneezing"
      ]
     },
     "metadata": {},
     "output_type": "display_data"
    }
   ],
   "source": [
    "# ---------------------------------------------------\n",
    "# Step 2: Load Dataset\n",
    "# ---------------------------------------------------\n",
    "df = pd.read_csv(\"../data/diseases.csv\")\n",
    "\n",
    "print(\"Dataset Loaded Successfully!\")\n",
    "print(f\"Total Records: {len(df)}\\n\")\n",
    "print(\"Preview of Dataset:\")\n",
    "display(df.head())\n"
   ]
  },
  {
   "cell_type": "code",
   "execution_count": 4,
   "id": "b6e0fc2b",
   "metadata": {},
   "outputs": [
    {
     "name": "stdout",
     "output_type": "stream",
     "text": [
      "\n",
      "Model and Encoder Loaded Successfully!\n"
     ]
    }
   ],
   "source": [
    "# ---------------------------------------------------\n",
    "# Step 3: Load Trained Model and Encoder\n",
    "# ---------------------------------------------------\n",
    "model = joblib.load(\"../models/disease_model.joblib\")\n",
    "mlb = joblib.load(\"../models/symptom_encoder.joblib\")\n",
    "\n",
    "print(\"\\nModel and Encoder Loaded Successfully!\")\n"
   ]
  },
  {
   "cell_type": "code",
   "execution_count": 5,
   "id": "cf2eeb2f",
   "metadata": {},
   "outputs": [
    {
     "name": "stdout",
     "output_type": "stream",
     "text": [
      "\n",
      "Total Symptoms Used for Training: 38\n",
      "Few Example Symptoms: ['abdominal pain' 'blurred vision' 'body ache' 'body pain'\n",
      " 'chest discomfort' 'chest pain' 'chest tightness' 'chills' 'constipation'\n",
      " 'cough']\n"
     ]
    }
   ],
   "source": [
    "# ---------------------------------------------------\n",
    "# Step 4: Display Encoder Information\n",
    "# ---------------------------------------------------\n",
    "symptoms_list = mlb.classes_  # .tolist() not required unless needed as Python list\n",
    "print(f\"\\nTotal Symptoms Used for Training: {len(symptoms_list)}\")\n",
    "print(\"Few Example Symptoms:\", symptoms_list[:10])\n"
   ]
  },
  {
   "cell_type": "code",
   "execution_count": 6,
   "id": "170fe069",
   "metadata": {},
   "outputs": [
    {
     "name": "stdout",
     "output_type": "stream",
     "text": [
      "\n",
      "Example Prediction for Symptoms ['fever', 'cough']: Influenza (Flu)\n"
     ]
    }
   ],
   "source": [
    "# ---------------------------------------------------\n",
    "# Step 5: Example Prediction\n",
    "# ---------------------------------------------------\n",
    "# Suppose the user has symptoms: fever, cough\n",
    "user_symptoms = [[\"fever\", \"cough\"]]\n",
    "\n",
    "# Convert to binary vector using the same encoder\n",
    "input_data = mlb.transform(user_symptoms)\n",
    "\n",
    "# Predict disease\n",
    "prediction = model.predict(input_data)[0]\n",
    "\n",
    "print(f\"\\nExample Prediction for Symptoms {user_symptoms[0]}: {prediction}\")\n"
   ]
  },
  {
   "cell_type": "markdown",
   "id": "614d4ff4",
   "metadata": {},
   "source": [
    "# ---------------------------------------------------\n",
    "# Step 6: Model Comparison and Selection\n",
    "# ---------------------------------------------------\n",
    "\n",
    "### Model Comparison and Selection\n",
    "During experimentation, two validation methods were tested:\n",
    "\n",
    "1. **Train-Test Split Model (Multinomial Naive Bayes)**  \n",
    "   - Accuracy: **≈ 95%**  \n",
    "   - Simpler and faster for the small dataset  \n",
    "   - More stable predictions on test data  \n",
    "\n",
    "2. **Cross-Validation Model (K-Fold with Multinomial NB)**  \n",
    "   - Average Accuracy: **≈ 88–90%**  \n",
    "   - Slightly lower and more variable  \n",
    "\n",
    "**Final Choice:** The Train-Test Split version was selected as it provided better and more consistent accuracy for Phase 1.\n"
   ]
  },
  {
   "cell_type": "markdown",
   "id": "a62b12bf",
   "metadata": {},
   "source": [
    "# ---------------------------------------------------\n",
    "# Step 7: Summary Notes\n",
    "# ---------------------------------------------------\n",
    "\n",
    "### 📋 Final Summary\n",
    "- Dataset: 10 Diseases with related symptom patterns  \n",
    "- Feature Encoding: MultiLabelBinarizer (symptom → binary vector)  \n",
    "- Model: Multinomial Naive Bayes (Train-Test Split)  \n",
    "- Model Accuracy: ~95%  \n",
    "- Saved as: `models/disease_predictor.joblib`  \n",
    "- Encoder: `models/symptom_encoder.joblib`  \n",
    "- Integrated into: Streamlit UI (`frontend/streamlit_app.py`)  \n",
    "\n",
    "This notebook verifies that the trained model and encoder load correctly and produce accurate predictions.\n"
   ]
  }
 ],
 "metadata": {
  "kernelspec": {
   "display_name": "Python 3",
   "language": "python",
   "name": "python3"
  },
  "language_info": {
   "codemirror_mode": {
    "name": "ipython",
    "version": 3
   },
   "file_extension": ".py",
   "mimetype": "text/x-python",
   "name": "python",
   "nbconvert_exporter": "python",
   "pygments_lexer": "ipython3",
   "version": "3.13.7"
  }
 },
 "nbformat": 4,
 "nbformat_minor": 5
}
